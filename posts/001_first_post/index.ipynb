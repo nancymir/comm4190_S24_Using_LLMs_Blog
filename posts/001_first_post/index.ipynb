{
 "cells": [
  {
   "cell_type": "raw",
   "id": "0a55551c-dbb2-4450-9382-78b81aec5789",
   "metadata": {},
   "source": [
    "---\n",
    "title: \"first post\"\n",
    "description: \"testing out blogging system\"\n",
    "author: \"Nancy\"\n",
    "date: \"2/6/2024\"\n",
    "categories:\n",
    "  - LLMs\n",
    "  - favs\n",
    "---"
   ]
  },
  {
   "cell_type": "markdown",
   "id": "b5de3063-2036-4ac5-bf1b-0f1b940f34a4",
   "metadata": {},
   "source": [
    "## This is my first post\n",
    "\n",
    "* Read the following post to know how to answer the question:\n",
    "\n",
    "> What are Nancy's favorite things?"
   ]
  },
  {
   "cell_type": "markdown",
   "id": "2b460a26-f52a-48bc-9a75-afaf08fa55d7",
   "metadata": {},
   "source": [
    "<img src=\"matcha.jpeg\" width=\"30%\"/>"
   ]
  },
  {
   "cell_type": "markdown",
   "id": "7aae1477-a7d7-44a3-a82a-fc240f75b703",
   "metadata": {},
   "source": [
    "::: {.callout-note}\n",
    "Note that Nancy is very particular about her matcha.\n",
    ":::"
   ]
  }
 ],
 "metadata": {
  "citation-manager": {
   "items": {}
  },
  "kernelspec": {
   "display_name": "Python 3.11 (COMM4190)",
   "language": "python",
   "name": "comm4190"
  },
  "language_info": {
   "codemirror_mode": {
    "name": "ipython",
    "version": 3
   },
   "file_extension": ".py",
   "mimetype": "text/x-python",
   "name": "python",
   "nbconvert_exporter": "python",
   "pygments_lexer": "ipython3",
   "version": "3.11.7"
  }
 },
 "nbformat": 4,
 "nbformat_minor": 5
}
