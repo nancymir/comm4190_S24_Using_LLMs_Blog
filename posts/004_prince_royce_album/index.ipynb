{
 "cells": [
  {
   "cell_type": "raw",
   "id": "f6f807fa-8977-4e90-9fa9-d5ba2701bffb",
   "metadata": {},
   "source": [
    "---\n",
    "title: \"Album Cover Predicitions with Dalle-3\"\n",
    "description: \"Can dall-e-3 predict what Prince Royce's new album cover will look like?\"\n",
    "author: \"Nancy Miranda\"\n",
    "date: \"2/16/2024\"\n",
    "categories:\n",
    "  - LLMs\n",
    "  - Prompting\n",
    "  - gpt-4\n",
    "  - dall-e-3\n",
    "---"
   ]
  },
  {
   "cell_type": "markdown",
   "id": "789616b0-de22-48c7-820f-d96819d72579",
   "metadata": {},
   "source": [
    "## Can `gpt-4` and `dall-e-3` Predict Prince Royce's New Album Cover?\n",
    "\n",
    "Singer sensation Prince Royce was at his peak in the 2010's with his contemporary bachata drops. Prince Royce is dropping a new album February 16, 2024 and has been extremely teased to his fans. Given the sneak peaks of his new album (tracklist + album description), can AI predict the album cover? And once the album comes out, how accurate will the prediction have been?\n",
    "\n",
    "#### 1. `gpt-4`: *\"Create a `dall-e-3` image description for the new Prince Royce Album Cover\"*\n",
    "#### 2. `dall-e-3`: * *insert `gpt-4` description* *"
   ]
  },
  {
   "cell_type": "markdown",
   "id": "adb96e33-c00c-497b-a24c-a21488db1aff",
   "metadata": {},
   "source": [
    "## `gpt-4` Setup"
   ]
  },
  {
   "cell_type": "markdown",
   "id": "6129e33b-1efe-4234-b5fe-8d24d059c16f",
   "metadata": {},
   "source": [
    "To set up the model, I...\n",
    "\n",
    "- Gave the system a short bio straight from the [Prince Royce](https://www.princeroyce.com/bio-en.html) website\n",
    "\n",
    "- I then also fed it the revealed tracklist and a short album description\n",
    "\n",
    "The model setup looked like this:"
   ]
  },
  {
   "cell_type": "code",
   "execution_count": null,
   "id": "428bda1e-97f4-49d7-a273-b53d1c522c22",
   "metadata": {},
   "outputs": [],
   "source": [
    "model = \"gpt-4\"\n",
    "system_role = \"You are a knowledgeable professional in the music industry to Latin sensation Prince Royce\"\n",
    "'''\n",
    "        In the past 8 years, multi-platinum award-winning, singer/songwriter Prince Royce has become a bona fide Latin superstar, \n",
    "        scoring 17 #1 radio hits and winning more than 80 awards and recognitions including: 22 Latin Billboard Awards, 19 Premio lo Nuestro Awards, \n",
    "        19 Premios Juventud Awards, 6 Latin AMAs, and 12 Latin GRAMMY nominations. Royce has a massive fan base with over 55 million followers on social media \n",
    "        and he has sold out many of the most prestigious venues in Latin America and the United States. In February 2019 Prince Royce made history becoming the \n",
    "        first and only tropical music artist to perform at the Houston Rodeo at the NRG Stadium where he attracted more than 55,000 euphoric fans. \n",
    "        All of his albums have been certified multiplatinum. His latest album, FIVE, was released in February 2017 and is Royce’s fifth career album. \n",
    "        The record debuted at #1 on Billboard's Latin Albums chart and earned Royce the highest first-week sales of any Latin album in the two years prior to the release. \n",
    "        The album has been certified Triple Platinum by the RIAA in the United States and has garnered multiple international certifications. \n",
    "        FIVE, made the Top Latin Albums list at Billboard’s coveted end of the year issue and Billboard also named Royce one of the Top Latin Artists of 2017.\n",
    "        Some of his collaborations include: Shakira, Chris Brown, Jennifer Lopez, Selena Gomez, Snoop Dogg, Pitbull, Thalia, Maná, Daddy Yankee, Becky G, Anitta, Ludacris, J Balvin, Bad Bunny, Farruko, and Maluma, among others. \n",
    "        Prince Royce has also started to pursue an acting career; he co-starred as Peter in the Fox Live musical broadcast of “The Passion” in 2016 and was part of the cast of Hulu’s hit series, “East Los High”.\n",
    "        August 9, 2018 was proclaimed \"Prince Royce Day\" in New York by Mayor Bill de Blasio, in recognition of his contributions to society and for being a role model to youth in his home town. \n",
    "        He has been induced into the Bronx Hall of Fame with a street named after him, and ran the New York City Marathon to raise funds and awareness on education in public schools and kidney disease.\n",
    "        \n",
    "'''\n",
    "\n",
    "initial_prompt = '''\n",
    "\n",
    "Prince Royce is about to drop a new album in February 2024. The album name is \"Llamada Perdida\" and tracklist includes: \n",
    "\n",
    "1. La Corriente\n",
    "2. No Te Vayas\n",
    "3. Sufro\n",
    "4. Te Espero\n",
    "5. Llamada Perdida\n",
    "6. Champaña\n",
    "7. Boogie Chata\n",
    "8. Borrador\n",
    "9. Los Lambones\n",
    "10. Anestesiada\n",
    "11. Cosas de la Peda\n",
    "12. Si Ya No Volveras\n",
    "13. Morfina\n",
    "14. Como Salimos de Este Lío?\n",
    "15. La Vida Te Hace Fuerte\n",
    "16. Si Te Preguntan...\n",
    "17. Matar El Sentimiento\n",
    "18. Frío en El Infierno\n",
    "19. Un Papel\n",
    "20. Me Enrd\n",
    "21. Otra Vez\n",
    "22. Le Doy Mil\n",
    "23. Lao' a Lao' \n",
    "\n",
    "and a short album description includes: \n",
    "\n",
    "\"Fans can expect to hear Prince Royce's signature sound while also experiencing a new and elevated level of artistry on \"Llamada Perdida”.  \n",
    "The album is a testament to Royce's growth as an artist, with more mature lyrics and a more self-confident sound. \n",
    "The songs are strewn together via voicemail messages, serving as interludes to certain tracks.\"\n",
    "\n",
    "Create a dall-e-3 description of an album cover that will best fit the descriptions of this new album and its songs.\n",
    "        '''\n",
    "\n",
    "messages = [\n",
    "    {\"role\": \"system\", \"content\": system_role} ,\n",
    "    {\"role\": \"user\", \"content\": initial_prompt}]"
   ]
  },
  {
   "cell_type": "markdown",
   "id": "acf45281-b65a-48ed-bd8c-463c4a92dc62",
   "metadata": {},
   "source": [
    "## `gpt-4` Result"
   ]
  },
  {
   "cell_type": "markdown",
   "id": "8231e0a0-5de0-4d31-a8d6-87297ee43763",
   "metadata": {},
   "source": [
    ">\n",
    ">\n",
    "> *Prompt:*\n",
    ">\n",
    "> [Given the information] Create a dall-e-3 description of an album cover that will best fit the descriptions of this new album and its songs.\n",
    ">\n",
    ">"
   ]
  },
  {
   "cell_type": "markdown",
   "id": "3a97cf2d-6552-4fdd-9148-1deb25ec31fa",
   "metadata": {},
   "source": [
    ">\n",
    "> *Response:*\n",
    ">\n",
    ">The album cover for \"Llamada Perdida\" is a beautifully intricate and symbolic representation of Prince Royce's journey as an artist. The main image is a vintage, rusted payphone located in the middle of a vibrant, bustling cityscape at dusk, evoking the theme of lost calls and missed connections. The payphone is adorned with colorful graffiti, each marking a symbol of a song on the album - a champagne glass for \"Champaña\", an intricately sketched heart for \"Matar El Sentimiento\", a crumpled paper for \"Un Papel\", a wave for \"La Corriente\", and so on. Prince Royce himself is depicted in the foreground, leaning against the payphone, dressed in a sleek black suit, his gaze focused on a crumpled piece of paper in his hand – perhaps a lost number, or the lyrics to his next song. His expression is one of contemplation and determination, reflecting the maturity of his lyrics and his self-confidence as an artist. His silhouette against the setting sun creates a striking contrast, symbolizing the end of one chapter and the beginning of another. The album title, \"Llamada Perdida\", is written in bold, white letters at the top of the cover, standing out against the deep, twilight blue of the cityscape. The font is modern and edgy, adding to the contemporary feel of the cover. In contrast, Prince Royce's name is displayed in a classic, elegant script at the bottom, a nod to his enduring presence in the Latin music scene. The overall aesthetic is a perfect blend of the old and the new, just like the music on the album itself.\n",
    ">\n",
    ">"
   ]
  },
  {
   "cell_type": "markdown",
   "id": "3a7b36a3-26b0-45e6-a4af-3f4b616c8228",
   "metadata": {},
   "source": [
    "## `dall-e-3` Setup\n",
    "I then inserted this description into a `dall-e-3 model` to generate the image."
   ]
  },
  {
   "cell_type": "code",
   "execution_count": null,
   "id": "3420a82b-8569-430b-bca7-80c1816362f4",
   "metadata": {},
   "outputs": [],
   "source": [
    "from openai import OpenAI\n",
    "client = OpenAI()\n",
    "\n",
    "response = client.images.generate(\n",
    "    model=\"dall-e-3\",\n",
    "    prompt=\n",
    "\n",
    "'''\n",
    "The album cover for \"Llamada Perdida\" is a beautifully intricate and symbolic representation of Prince Royce's journey as an artist. \n",
    "The main image is a vintage, rusted payphone located in the middle of a vibrant, bustling cityscape at dusk, evoking the theme of lost calls and missed connections. \n",
    "The payphone is adorned with colorful graffiti, each marking a symbol of a song on the album - a champagne glass for \"Champaña\", an intricately sketched heart for \"Matar El Sentimiento\", \n",
    "a crumpled paper for \"Un Papel\", a wave for \"La Corriente\", and so on. Prince Royce himself is depicted in the foreground, leaning against the payphone, \n",
    "dressed in a sleek black suit, his gaze focused on a crumpled piece of paper in his hand – perhaps a lost number, or the lyrics to his next song. \n",
    "His expression is one of contemplation and determination, reflecting the maturity of his lyrics and his self-confidence as an artist. \n",
    "His silhouette against the setting sun creates a striking contrast, symbolizing the end of one chapter and the beginning of another. The album title, \"Llamada Perdida\", \n",
    "is written in bold, white letters at the top of the cover, standing out against the deep, twilight blue of the cityscape. The font is modern and edgy, \n",
    "adding to the contemporary feel of the cover. In contrast, Prince Royce's name is displayed in a classic, elegant script at the bottom, \n",
    "a nod to his enduring presence in the Latin music scene. The overall aesthetic is a perfect blend of the old and the new, just like the music on the album itself.\n",
    "\n",
    "''',\n",
    "    \n",
    "    size=\"1024x1024\",\n",
    "    quality=\"standard\",\n",
    "    n=1,\n",
    ")\n",
    "image_url = response.data[0].url"
   ]
  },
  {
   "cell_type": "markdown",
   "id": "05a8d3cc-6dbc-432a-81cc-e9abc39b3005",
   "metadata": {},
   "source": [
    "## `dall-e-3` Result\n",
    "This prompt generated this album cover:"
   ]
  },
  {
   "cell_type": "markdown",
   "id": "330ca4df-bf5f-4f61-ab9d-5950df566cd6",
   "metadata": {},
   "source": [
    "![First Album Cover Predicition](pr_album_cover_predicition.png)"
   ]
  },
  {
   "cell_type": "code",
   "execution_count": null,
   "id": "bd2cd58c-5da8-4886-8a6e-4fda0cb8819c",
   "metadata": {},
   "outputs": [],
   "source": []
  }
 ],
 "metadata": {
  "citation-manager": {
   "items": {}
  },
  "kernelspec": {
   "display_name": "Python 3.11 (COMM4190)",
   "language": "python",
   "name": "comm4190"
  },
  "language_info": {
   "codemirror_mode": {
    "name": "ipython",
    "version": 3
   },
   "file_extension": ".py",
   "mimetype": "text/x-python",
   "name": "python",
   "nbconvert_exporter": "python",
   "pygments_lexer": "ipython3",
   "version": "3.11.7"
  }
 },
 "nbformat": 4,
 "nbformat_minor": 5
}
