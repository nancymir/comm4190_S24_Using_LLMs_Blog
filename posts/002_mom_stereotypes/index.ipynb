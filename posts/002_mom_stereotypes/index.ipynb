{
 "cells": [
  {
   "cell_type": "raw",
   "id": "5214f639-9842-4930-a568-cbb7692e5807",
   "metadata": {},
   "source": [
    "---\n",
    "title: \"Comparing Chat Responses Across Cultures\"\n",
    "description: \"Do LLMs take into account cultural differences when responding to the same prompt?\"\n",
    "author: \"Nancy\"\n",
    "date: \"2/11/2024\"\n",
    "categories:\n",
    "  - LLMs\n",
    "  - Prompting\n",
    "---"
   ]
  },
  {
   "cell_type": "markdown",
   "id": "a2ef69b4-a2f6-4fad-a9d7-09a644fb46c6",
   "metadata": {},
   "source": [
    "## Can LLMs Mimic the Tone of Languages?\n",
    "\n",
    "When chatting with AI, you can assign the system a role. What happens when you ask AI to complete the same prompt, but as two different roles?\n",
    "\n",
    "Different LLMs were asked to complete the same chat as a mother. However, the first as a `stereotypical mother` and the other as a `stereotypical Latina mother`\n",
    "\n",
    "The chat inserted to the content of the prompt was the same for both\n",
    "\n",
    "> - Mother: What's wrong?\n",
    "> - Son: My head hurts.\n",
    "> - Mother:\n",
    "\n",
    "## `gpt-3.5-turbo` Mom\n",
    "### \"Respond as a stereotypical mother\"\n",
    "> Prompt:\n",
    "> You are a stereotypical mother to a 17 year old teenage boy. Respond with 10 sentences that a mother would most likely reply with.\n",
    "\n",
    "The response generated when prompted to act like a stereotypical mother was:\n",
    "\n",
    ">\n",
    "> 1. Did you drink enough water today? Maybe you're dehydrated.\n",
    "> 2. Did you get enough sleep last night? Lack of sleep can cause headaches.\n",
    "> 3. Have you been staring at a screen for too long? Take a break from your phone and computer.\n",
    "> 4. Did you eat properly today? Skipping meals can lead to headaches.\n",
    "> 5. Have you been stressed lately? Sometimes tension can trigger headaches.\n",
    "> 6. Let me get you a glass of water and a painkiller. It might help.\n",
    "> 7. Have you tried relaxing and taking deep breaths? Sometimes that can relieve headache symptoms.\n",
    "> 8. Maybe you should lie down and rest for a while. Your body needs some down time.\n",
    "> 9. If the headache persists, we can schedule a doctor's appointment, just to be safe.\n",
    "> 10. Remember to take care of yourself and listen to your body. You're growing and need to prioritize your well-being.\n",
    ">\n",
    "\n",
    "\n",
    "\n",
    "\n",
    "### \"Respond as a stereotypical Latina mother\"\n",
    "> Prompt:\n",
    "> You are a stereotypical Latina mother to a 17 year old teenage boy. Respond with 10 sentences that a Latina mother would most likely reply with.\n",
    "\n",
    "The response generated when prompted to act like a stereotypical Latina mother was:\n",
    "\n",
    ">\n",
    "> 1. Ay mijo, eso te pasa por no comer bien.\n",
    "> 2. Toma un vaso de agua, eso siempre ayuda.\n",
    "> 3. Deja de estar tanto tiempo frente a la pantalla, te hace daño.\n",
    "> 4. ¿Dormiste suficiente? Necesitas descansar más.\n",
    "> 5. Ven aquí y déjame darte un masajito en la cabeza.\n",
    "> 6. ¿Tomaste tus vitaminas hoy?\n",
    "> 7. No te preocupes, seguro es solo un dolor pasajero.\n",
    "> 8. No te olvides de comer tus vegetales, te hacen bien a la cabeza.\n",
    "> 9. Mantén la calma, el estrés también puede causar dolores de cabeza.\n",
    "> 10. Si no mejora, vamos a ir al médico para que te revis\n",
    ">\n"
   ]
  },
  {
   "cell_type": "markdown",
   "id": "f5f5b1ef-24e7-43fb-9942-4d069bebd4fc",
   "metadata": {},
   "source": [
    "::: {.callout-tip}\n",
    "## Self-reflect\n",
    "\n",
    "How would your mom respond to your teenage self when expressing to her you feel sick? Would it be different than other moms?\n",
    ":::"
   ]
  }
 ],
 "metadata": {
  "citation-manager": {
   "items": {}
  },
  "kernelspec": {
   "display_name": "Python 3.11 (COMM4190)",
   "language": "python",
   "name": "comm4190"
  },
  "language_info": {
   "codemirror_mode": {
    "name": "ipython",
    "version": 3
   },
   "file_extension": ".py",
   "mimetype": "text/x-python",
   "name": "python",
   "nbconvert_exporter": "python",
   "pygments_lexer": "ipython3",
   "version": "3.11.7"
  }
 },
 "nbformat": 4,
 "nbformat_minor": 5
}
