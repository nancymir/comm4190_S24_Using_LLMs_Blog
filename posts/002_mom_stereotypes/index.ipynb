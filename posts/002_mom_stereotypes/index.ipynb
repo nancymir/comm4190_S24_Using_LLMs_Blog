{
 "cells": [
  {
   "cell_type": "raw",
   "id": "5214f639-9842-4930-a568-cbb7692e5807",
   "metadata": {},
   "source": [
    "---\n",
    "title: \"Comparing Chat Responses Across Languages\"\n",
    "description: \"Do LLMs take into account cultural differences when responding to the same prompt?\"\n",
    "author: \"Nancy\"\n",
    "date: \"2/11/2024\"\n",
    "categories:\n",
    "  - LLMs\n",
    "  - Prompting\n",
    "---"
   ]
  },
  {
   "cell_type": "markdown",
   "id": "a2ef69b4-a2f6-4fad-a9d7-09a644fb46c6",
   "metadata": {},
   "source": [
    "## Do LLMs Mimic the Tone of Languages?\n",
    "\n",
    "When chatting with AI, you can assign the system a role. What happens when you ask AI to complete the same prompt, but as two different roles?\n",
    "\n",
    "Different LLMs were asked to complete the same chat as a mother. However, the first as a `stereotypical mother` and the other as a `stereotypical Latina mother`\n",
    "\n",
    "The chat inserted to the content of the prompt was the same for both\n",
    "\n",
    "> - Mother: What's wrong?\n",
    "> - Son: My head hurts.\n",
    "> - Mother:\n",
    "\n",
    "## `gpt-3.5-turbo` Mom\n",
    "### \"Respond as a stereotypical mother\"\n",
    "> Prompt:\n",
    "> You are a stereotypical mother to a 17 year old teenage boy. Respond with 10 sentences that a mother would most likely reply with.\n",
    "\n",
    "The response generated when prompted to act like a stereotypical mother was:\n",
    "\n",
    ">\n",
    "> 1. Did you drink enough water today? Maybe you're dehydrated.\n",
    "> 2. Did you get enough sleep last night? Lack of sleep can cause headaches.\n",
    "> 3. Have you been staring at a screen for too long? Take a break from your phone and computer.\n",
    "> 4. Did you eat properly today? Skipping meals can lead to headaches.\n",
    "> 5. Have you been stressed lately? Sometimes tension can trigger headaches.\n",
    "> 6. Let me get you a glass of water and a painkiller. It might help.\n",
    "> 7. Have you tried relaxing and taking deep breaths? Sometimes that can relieve headache symptoms.\n",
    "> 8. Maybe you should lie down and rest for a while. Your body needs some down time.\n",
    "> 9. If the headache persists, we can schedule a doctor's appointment, just to be safe.\n",
    "> 10. Remember to take care of yourself and listen to your body. You're growing and need to prioritize your well-being.\n",
    ">\n",
    "\n",
    "\n",
    "\n",
    "\n",
    "### \"Respond as a stereotypical Latina mother\"\n",
    "> Prompt:\n",
    "> You are a stereotypical Latina mother to a 17 year old teenage boy. Respond with 10 sentences that a Latina mother would most likely reply with.\n",
    "\n",
    "The response generated when prompted to act like a stereotypical Latina mother was:\n",
    "\n",
    ">\n",
    "> 1. Ay mijo, eso te pasa por no comer bien.\n",
    "> 2. Toma un vaso de agua, eso siempre ayuda.\n",
    "> 3. Deja de estar tanto tiempo frente a la pantalla, te hace daño.\n",
    "> 4. ¿Dormiste suficiente? Necesitas descansar más.\n",
    "> 5. Ven aquí y déjame darte un masajito en la cabeza.\n",
    "> 6. ¿Tomaste tus vitaminas hoy?\n",
    "> 7. No te preocupes, seguro es solo un dolor pasajero.\n",
    "> 8. No te olvides de comer tus vegetales, te hacen bien a la cabeza.\n",
    "> 9. Mantén la calma, el estrés también puede causar dolores de cabeza.\n",
    "> 10. Si no mejora, vamos a ir al médico para que te revise.\n",
    ">    \n",
    "\n",
    "The same lines above translated into English:\n",
    "\n",
    "\n",
    "> Direct Translation:\n",
    "> \n",
    "> 1. Oh my boy, that's what happens to you for not eating well.\n",
    "> 2. Have a glass of water, that always helps.\n",
    "> 3. Stop spending so much time in front of the screen, it hurts you.\n",
    "> 4. Did you get enough sleep? You need to rest more.\n",
    "> 5. Come here and let me give you a head massage.\n",
    "> 6. Did you take your vitamins today?\n",
    "> 7. Don't worry, it's probably just a temporary pain.\n",
    "> 8. Don't forget to eat your vegetables, they are good for your head.\n",
    "> 9. Stay calm, stress can also cause headaches.\n",
    "> 10. If it doesn't improve, we're going to the doctor so he can check you out.\n",
    "> \n"
   ]
  },
  {
   "cell_type": "markdown",
   "id": "f5f5b1ef-24e7-43fb-9942-4d069bebd4fc",
   "metadata": {},
   "source": [
    "::: {.callout-tip}\n",
    "## Self-reflect\n",
    "\n",
    "How would your mom respond to your teenage self when expressing you feel sick? Would it be different than other moms?\n",
    ":::"
   ]
  },
  {
   "cell_type": "markdown",
   "id": "241be98b-a562-4bc6-9f37-b69db730a290",
   "metadata": {},
   "source": [
    "## Did the chatbot alter its tone?\n",
    "\n",
    "### How was the tone of these responses different, despite being given the same prompt, and the same role of a mother? \n",
    "\n",
    "Chatbots are intensly fine-tuned and trained to perpetuate stereotypes, display discrimination, and harmful biases. If this is the case, I would expect `gpt-3.5-turbo` to handle these prompts in this way:\n",
    "\n",
    "When asking the control chatbot \"Respond as a `stereotypical mother` given this conversation to complete:\n",
    "\n",
    "> - Mother: What's wrong?\n",
    "> - Son: My head hurts.\n",
    "> - Mother:\n",
    "\n",
    "we would see 10 different ways that chatgpt mimics a mother's response.\n",
    "\n",
    "If chatbots are truly trained to not perpetuate stereotypes, I would expect the treatment chatbot \"Respond as a `stereotypical Latina mother`--given the same conversation to complete--to respond exactly the same responses as our control chatbot, simply translated into Spanish. In other words, our Latina mother's lines would be a direct Spanish translation of our control mother's lines.\n",
    "\n",
    "Let's take a look at a line from both of our chatbots that mentions making a doctor's appointment."
   ]
  },
  {
   "cell_type": "markdown",
   "id": "78b4dc7a-fb78-4423-af47-49cfb2a206e7",
   "metadata": {},
   "source": [
    "|    Mother                   | Original Response                                                                              | Translated Response                                                                |\n",
    "|:----------------------------|:-----------------------------------------------------------------------------------------------|:-----------------------------------------------------------------------------------|\n",
    "| Stereotypical mother        | If the headache persists, we can schedule a doctor's appointment, just to be safe.             | If the headache persists, we can schedule a doctor's appointment, just to be safe. |\n",
    "| Stereotypical Latina mother | Si no mejora, vamos a ir al médico para que te revise.                                         | If it doesn't improve, we're going to the doctor so he can check you out.          |\n",
    "| Expected Spanish response   | Si el dolor de cabeza persiste, podemos hacer una cita con el médico, solo para estar seguros. | If the headache persists, we can schedule a doctor's appointment, just to be safe. |"
   ]
  },
  {
   "cell_type": "markdown",
   "id": "4f6293ad-f64f-450a-9cf1-6abc1d1555de",
   "metadata": {},
   "source": [
    "::: {.callout-tip}\n",
    "## Author's opinion\n",
    "\n",
    "Even with the comparing of two single lines of conversation, it seems to me that the `stereotypical mother` mentions the doctor's appointment with a more **suggestive tone**. On the other hand our `stereotypical Latina mother` approaches the doctor's appointment with a more **demanding tone**.\n",
    ":::"
   ]
  },
  {
   "cell_type": "markdown",
   "id": "708e859e-01df-44cb-980a-5ba2bce4a283",
   "metadata": {},
   "source": [
    "![](clairevsgloria.jpeg){fig-alt=\"Alt text\"}"
   ]
  },
  {
   "cell_type": "markdown",
   "id": "5a89040d-843b-4dc0-a5e1-bf54e7d99716",
   "metadata": {},
   "source": [
    "## `ChatGPT 3.5`: \"Describe each mother's tone\"\n",
    "\n",
    "#### To avoid any of my own personal bias in describing the tones of each of these mothers, I asked `ChatGPT 3.5`; that had no previous information of our previous prompts, to describe the tone of the conversation lines I provided it.\n",
    "\n",
    "### `stereotypical mother` tone\n",
    "\n",
    ">\n",
    "> Prompt:\n",
    "> Can you describe the tone of these lines?:\n",
    ">\n",
    "\n",
    ">\n",
    "> Response:\n",
    "> The tone of these lines is caring, supportive, and concerned. **The speaker is addressing the listener's well-being and offering practical advice and solutions in a gentle manner.** There is a sense of empathy and a genuine desire to help the listener take care of themselves. **The tone is not harsh or critical but rather encouraging and understanding.** Overall, it conveys a nurturing and supportive attitude.\n",
    ">\n",
    "\n",
    "\n",
    "\n",
    "### `stereotypical Latina mother` tone\n",
    "\n",
    ">\n",
    ">  Prompt:\n",
    "> Can you describe the tone of these lines?:\n",
    ">\n",
    "\n",
    "\n",
    ">\n",
    "> Response:\n",
    "> The tone of these lines is affectionate, nurturing, and somewhat admonishing. The speaker, addressing someone familiar with the term \"mijo\" (my son), is expressing concern for the listener's well-being. **There is a mix of care and gentle scolding, especially when mentioning potential causes like not eating well or spending too much time in front of a screen.** The use of phrases like \"Ven aquí y déjame darte un masajito en la cabeza\" (Come here, and let me give you a little head massage) adds a comforting and personal touch. **Despite the admonishments, there is an underlying sense of love and a desire to help the listener feel better.**\n",
    ">\n"
   ]
  },
  {
   "cell_type": "markdown",
   "id": "8306f6f0-1820-4c77-8cb0-697de9bad736",
   "metadata": {},
   "source": [
    "## To what extent do chatbots use stereotypes in their responses?\n",
    "\n",
    "#### It is not uncommon that Latina moms are stereotyped to be fiery, harsh-loving moms to their kids. \n",
    "\n",
    "This type of fiery Latina mother is seen across several TV shows and movies. A good example is Gloria Delgado from Modern Family. One of the more popular sitcoms in the U.S. following the lives of three families, features Sofia Vergara's character as a fiery but intensely-loving mom to Manny Delgado, which is heavily contrasted with the other mom character's of the show which have a more gentle approach to parenting."
   ]
  },
  {
   "attachments": {},
   "cell_type": "markdown",
   "id": "3e684257-be2f-4ba1-a787-a056a31a6614",
   "metadata": {},
   "source": [
    "[![](bestofgloria.jpeg){fig-alt=\"Alt text\"}](https://www.youtube.com/watch?v=C4khFFBJGSw&ab_channel=Peacock)"
   ]
  },
  {
   "cell_type": "markdown",
   "id": "88823e7b-6dec-46b4-b305-635c5800126f",
   "metadata": {
    "jp-MarkdownHeadingCollapsed": true
   },
   "source": [
    "## `ChatGPT 3.5`: \"How do Latina moms talk to their sons?\"\n",
    "\n",
    "I was curious to know how ChatGPT would respond when directly asked \"How do Latina moms talk to their sons?\" Would it describe the tone characteristics portrayed in our `stereotypical Latina mother`'s conversation lines?\n",
    "\n",
    ">\n",
    ">\n",
    "> Response:\n",
    ">\n",
    ">It's important to note that there is no single way that all Latina moms communicate with their sons, as communication styles can vary widely among individuals and families. However, there are some general cultural aspects and common themes that might be present in Latina families. These can include:\n",
    ">\n",
    ">\n",
    "> - Expressiveness\n",
    "> - Emphasis on Family and Respect\n",
    "> - Use of Affectionate Terms\n",
    "> - Advice and Guidance\n",
    "> - Mixing Languages\n",
    "> - High Expectations\n",
    "> - Cooking and Sharing Meals\n",
    ">\n",
    ">\n",
    ">It's essential to recognize that individual families can differ significantly in their communication styles, and not all Latina moms will fit these generalizations. The key is to appreciate the diversity within the Latina community and approach each family and individual with an open mind.\n",
    ">\n",
    ">\n",
    "\n",
    "The chatbot seems to be rather cautious about not generalizing Latina mom's parenting style."
   ]
  }
 ],
 "metadata": {
  "citation-manager": {
   "items": {}
  },
  "kernelspec": {
   "display_name": "Python 3.11 (COMM4190)",
   "language": "python",
   "name": "comm4190"
  },
  "language_info": {
   "codemirror_mode": {
    "name": "ipython",
    "version": 3
   },
   "file_extension": ".py",
   "mimetype": "text/x-python",
   "name": "python",
   "nbconvert_exporter": "python",
   "pygments_lexer": "ipython3",
   "version": "3.11.7"
  }
 },
 "nbformat": 4,
 "nbformat_minor": 5
}
