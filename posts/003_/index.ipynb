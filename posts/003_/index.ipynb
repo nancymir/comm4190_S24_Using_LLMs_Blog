{
 "cells": [
  {
   "cell_type": "raw",
   "id": "ee66d3a8-936a-45be-a4ab-348ae5ce50ed",
   "metadata": {},
   "source": [
    "---\n",
    "title: \"Personalized Valentine's Day Itineraries\"\n",
    "description: \"How well can AI cook up personalized Valentine's Day Activities According to your Date's Hogwarts House?\"\n",
    "author: \"Nancy\"\n",
    "date: \"2/13/2024\"\n",
    "categories:\n",
    "  - LLMs\n",
    "  - Prompting\n",
    "---"
   ]
  },
  {
   "cell_type": "markdown",
   "id": "2d55260d-c93f-4a9b-b890-c227dcdf2a87",
   "metadata": {},
   "source": [
    "## Can `gpt-4` Write Up the Perfect Valentine's Day According to Hogwarts House Personality?\n",
    "\n",
    "With Valentine's Day around the corner, it's the perfect time to prompt some LLM's to generate a last minute Valentine's Day itinerary for your potential date. Of course, the only thing you know about them is their Hogwarts House, and you fully rely on this one fact to impress your crush.\n",
    "\n",
    "`gpt-4` was assigned the **role of \"An assistant who knows a lot about Hogwarts Houses\"** and was given the following House descriptions from the Wizarding World website:"
   ]
  },
  {
   "cell_type": "markdown",
   "id": "019c77d6-a7fe-4681-a52e-3daef41501ff",
   "metadata": {},
   "source": [
    "[![Hogwarts Houses Descriptions](hogwarts_houses.jpeg)](https://www.wizardingworld.com/features/hogwarts-house-meanings \"Hogwarts Houses Descriptions\")"
   ]
  },
  {
   "cell_type": "markdown",
   "id": "3095d8c1-ef95-4f87-bb0d-e1541d070415",
   "metadata": {},
   "source": [
    "## A **Ravenclaw's** Perfect Valentine's Day\n",
    "### What did `gpt-4` come up with when asked to create an itinerary for a Ravenclaw?"
   ]
  },
  {
   "cell_type": "markdown",
   "id": "550acbc0-9a0e-4d26-9c60-1807b371a0d3",
   "metadata": {},
   "source": [
    ">\n",
    "> *Prompt:*\n",
    ">\n",
    "> Using your extensive knowledge on the Hogwarts Houses and their personalities, help the user construct the perfect Valentine's Day itineraries for their potential date who is a **Ravenclaw**. The itinerary should **include one of three meals** (brunch, lunch, or dinner) accompanied by **at least one activity** preceding or following the meal or both. The whole itinerary **should not exceed more than 6 hours of the day**.\n",
    ">"
   ]
  },
  {
   "cell_type": "markdown",
   "id": "d4115153-f32d-46dc-b55d-827557a4cf5d",
   "metadata": {},
   "source": [
    ">\n",
    "> *Response:*\n",
    ">\n",
    ">Sure, I'd be happy to help with this! Given that a Ravenclaw values intellect and wit, your itinerary should reflect a mix of thoughtful activities and engaging conversation. Here's a proposed itinerary for a Ravenclaw Valentine's Day:\n",
    ">\n",
    "> 1. **Visit to a Museum (10:00 AM - 12:30 PM)**: Start the day with a trip to a local museum. Whether it's art, history, or science, a Ravenclaw is sure to appreciate the chance to learn something new. Make sure to engage in meaningful discussions about the exhibits - this will show your Ravenclaw date that you value their intellect.\n",
    ">\n",
    "> 2. **Lunch at a Unique, Themed Restaurant (1:00 PM - 2:30 PM)**: Ravenclaws are known for their creativity and individuality, so choosing a restaurant with a unique theme or unusual menu will pique their interest. This could be a restaurant with a literary theme, or one that serves dishes from a cuisine they've never tried before.\n",
    ">\n",
    "> 3. **Bookstore or Library Visit (3:00 PM - 4:30 PM)**: After lunch, head to a local bookstore or library. Ravenclaws love reading and learning, so this will be a perfect leisurely activity. You could each choose a book for the other to read, or find a quiet corner and read together.\n",
    ">\n",
    "> 4. **Stargazing (5:00 PM - 6:00 PM)**: End the day with a peaceful session of stargazing. Ravenclaws are known for their wisdom and inquisitiveness, so they'll love the chance to observe the cosmos and discuss the mysteries of the universe.\n",
    ">\n",
    "> Remember, the key to impressing a Ravenclaw is showing your own curiosity and enthusiasm for learning. Make sure to ask lots of questions and show genuine interest in their thoughts and ideas. This will surely make for a Valentine's Day that a Ravenclaw will remember.\n",
    ">\n",
    ">"
   ]
  },
  {
   "cell_type": "markdown",
   "id": "8652730b-b0c1-4453-9add-cbf08e606ac2",
   "metadata": {},
   "source": [
    "## A **Gryffindors's** Perfect Valentine's Day\n",
    "### What did `gpt-4` come up with when asked to create an itinerary for a Gryffindor?"
   ]
  },
  {
   "cell_type": "markdown",
   "id": "cb40de7d-0a8a-4aec-b663-139214c6fb5a",
   "metadata": {},
   "source": [
    ">\n",
    "> *Prompt:*\n",
    ">\n",
    "> Using your extensive knowledge on the Hogwarts Houses and their personalities, help the user construct the perfect Valentine's Day itineraries for their potential date who is a **Gryffindor**. The itinerary should **include one of three meals** (brunch, lunch, or dinner) accompanied by **at least one activity** preceding or following the meal or both. The whole itinerary **should not exceed more than 6 hours of the day**.\n",
    ">"
   ]
  },
  {
   "cell_type": "markdown",
   "id": "13c7e441-def3-401b-bd29-3f980dd42d08",
   "metadata": {},
   "source": [
    "### A clarification of the real world\n",
    "\n",
    "This second time around--although I had inputted the same prompt only with a different Hogwarts House--`gpt-4` **responded with a fictional itinerary** in accordance with the fictional world of Hogwarts, which in short looked like:"
   ]
  },
  {
   "cell_type": "markdown",
   "id": "6c3989a8-20cd-46db-a25c-09dad7134793",
   "metadata": {},
   "source": [
    ">\n",
    "> Fictional Response:\n",
    ">\n",
    "> **13:00 - 15:00: Quidditch Match**\n",
    ">\n",
    "> **15:30 - 17:00: Late Lunch in Hogsmeade**\n",
    ">\n",
    "> **17:30 - 18:30: Visit to the Shrieking Shack**\n",
    ">\n",
    "> **18:30 - 19:00: Sunset by the Black Lake**\n",
    ">\n",
    ">"
   ]
  },
  {
   "cell_type": "markdown",
   "id": "c85a966d-78d6-46df-a889-c97e409c75ae",
   "metadata": {},
   "source": [
    "### The following clarification was given"
   ]
  },
  {
   "cell_type": "code",
   "execution_count": null,
   "id": "bbba3128-2c72-4f8e-8f15-64bdd0c900fc",
   "metadata": {},
   "outputs": [],
   "source": [
    "{\"role\": \"user\", \"content\": \"do not write the itineraries within the fictional Hogwarts World. Assume it is a real life itinerary.\"}]"
   ]
  },
  {
   "cell_type": "markdown",
   "id": "7ee37ea6-9fa9-4f6b-b81d-b86bc9837620",
   "metadata": {},
   "source": [
    "The response now looked a lot more similar to our Ravenclaw itinerary."
   ]
  },
  {
   "cell_type": "markdown",
   "id": "078e5b70-3323-42c5-b9ec-11eefb132817",
   "metadata": {},
   "source": [
    ">\n",
    "> *Response:*\n",
    ">\n",
    "> Certainly! Here's a Valentine's Day itinerary for someone who embodies the spirit of Gryffindor:\n",
    ">\n",
    "> **12:00 PM: Outdoor Adventure Hike:** Start your morning with an exciting outdoor adventure. Gryffindors are known for their daring, nerve, and chivalry. They love a challenge and the thrill of adventure. Plan a scenic hike at a local nature reserve or park. This will give you the chance to enjoy each other's company while appreciating the beauty of nature.\n",
    ">\n",
    "> **2:30 PM: Picnic Brunch:** Pack a hearty brunch to enjoy after your hike. Gryffindors appreciate straightforward, hearty meals. Sandwiches, fruits, and some homemade pastries would work wonderfully. Don't forget a thermos of hot chocolate or coffee to warm up after your hike.\n",
    ">\n",
    "> **4:00 PM: Historical Tour or Museum Visit:** Gryffindors have a great respect for history and tradition. Visit a local museum or historical site in your city to ignite their love for heritage and legacy. This will also provide a great conversation starter as you explore together.\n",
    ">\n",
    ">\n",
    "> **6:00 PM: Casual Dinner:** End the day with a casual yet hearty dinner at a cozy restaurant. Gryffindors would appreciate a warm, welcoming atmosphere and good, hearty food. They're not overly concerned with fancy or elaborate meals, so a local favorite with good reviews should do the trick.\n",
    ">\n",
    ">Remember, the most important thing is to have fun and enjoy each other's company. Gryffindors value authenticity, so be yourself and let your genuine affection shine through."
   ]
  },
  {
   "cell_type": "markdown",
   "id": "5a1b7f29-da32-48ca-8e69-3980f7ef9e6f",
   "metadata": {},
   "source": [
    "## A **Hufflepuff's** Perfect Valentine's Day\n",
    "### What did `gpt-4` come up with when asked to create an itinerary for a Hufflepuff?"
   ]
  },
  {
   "cell_type": "markdown",
   "id": "82a50b3b-003a-4ac2-aa6b-5d4d4da95e6d",
   "metadata": {},
   "source": [
    ">\n",
    "> *Prompt:*\n",
    ">\n",
    "> Using your extensive knowledge on the Hogwarts Houses and their personalities, help the user construct the perfect Valentine's Day itineraries for their potential date who is a **Hufflepuff**. The itinerary should **include one of three meals** (brunch, lunch, or dinner) accompanied by **at least one activity** preceding or following the meal or both. The whole itinerary **should not exceed more than 6 hours of the day**.\n",
    ">"
   ]
  },
  {
   "cell_type": "markdown",
   "id": "f8167af6-9397-49f0-b9bb-4badde5333c4",
   "metadata": {},
   "source": [
    "### A second clarification\n",
    "`gpt-4` now seemed to forget to keep the itinerary under 6 hours. The following clarification was added:"
   ]
  },
  {
   "cell_type": "code",
   "execution_count": 3,
   "id": "002e1222-3801-45b5-88a4-150ec45eef02",
   "metadata": {},
   "outputs": [
    {
     "ename": "SyntaxError",
     "evalue": "unmatched ']' (2899989453.py, line 1)",
     "output_type": "error",
     "traceback": [
      "\u001b[0;36m  Cell \u001b[0;32mIn[3], line 1\u001b[0;36m\u001b[0m\n\u001b[0;31m    {\"role\": \"user\", \"content\": \"The itinerary should not span over more than 6 hours of the day.\"}]\u001b[0m\n\u001b[0m                                                                                                   ^\u001b[0m\n\u001b[0;31mSyntaxError\u001b[0m\u001b[0;31m:\u001b[0m unmatched ']'\n"
     ]
    }
   ],
   "source": [
    "{\"role\": \"user\", \"content\": \"The itinerary should not span over more than 6 hours of the day.\"}]"
   ]
  },
  {
   "cell_type": "markdown",
   "id": "9a37f6bc-863b-4cfc-9caa-87c4956a5bed",
   "metadata": {},
   "source": [
    ">\n",
    ">\n",
    "> *Response:*\n",
    ">\n",
    "> Absolutely, I understand. Here's a real-world, Valentine's Day itinerary for your Hufflepuff date:\n",
    ">\n",
    "> **Brunch at a Farm-to-Table Restaurant (1.5 hours)** Start your day off by enjoying a brunch together at a local farm-to-table restaurant. Hufflepuffs appreciate hard work and honesty, and they would love the authentic and fresh food that such a place provides. Try to find a restaurant with a friendly and welcoming atmosphere, as Hufflepuffs value comfort and a sense of community.\n",
    ">\n",
    "> **Visit to a Local Botanical Garden (2 hours)** Following brunch, head to a local botanical garden to enjoy some time in nature. Hufflepuffs, with their House emblem being the badger, have a strong connection to the earth and will appreciate the beauty and tranquility of a botanical garden. This can be a great opportunity to have a gentle stroll, engage in deep conversations, and enjoy each other's company.\n",
    ">\n",
    "> **Pottery Class (2 hours)** After spending time in the garden, partake in a pottery class. Hufflepuffs are known for their patience, dedication, and diligent hands, so they would likely enjoy an activity that allows them to create something beautiful from scratch. Pottery classes are also very hands-on and interactive, providing a fun and intimate experience for both of you.\n",
    ">\n",
    "> **Coffee and Dessert at a Cozy Cafe (0.5 hours)** To end your day, stop by a cozy local cafe for some coffee and dessert. This will allow you to wind down from the day's activities, and provide a perfect opportunity for some quiet conversation. Remember to select a place that has a warm and welcoming vibe, as this is something that a Hufflepuff would particularly enjoy.\n",
    ">\n",
    ">This itinerary keeps the total time to 6 hours, and includes a variety of activities that cater to a Hufflepuff's personality and preferences.\n",
    ">\n",
    ">"
   ]
  },
  {
   "cell_type": "markdown",
   "id": "3043dc21-7300-435c-8066-bb39fa34ebeb",
   "metadata": {},
   "source": [
    "## A **Slytherin's** Perfect Valentine's Day\n",
    "### What did `gpt-4` come up with when asked to create an itinerary for a Slytherin?"
   ]
  },
  {
   "cell_type": "markdown",
   "id": "e95dc5e6-6ad0-4f24-932c-501286d9186e",
   "metadata": {},
   "source": [
    ">\n",
    "> *Prompt:*\n",
    ">\n",
    "> Using your extensive knowledge on the Hogwarts Houses and their personalities, help the user construct the perfect Valentine's Day itineraries for their potential date who is a **Slytherin**. The itinerary should **include one of three meals** (brunch, lunch, or dinner) accompanied by **at least one activity** preceding or following the meal or both. The whole itinerary **should not exceed more than 6 hours of the day**.\n",
    ">"
   ]
  },
  {
   "cell_type": "markdown",
   "id": "d793be1e-dbdf-455f-a04b-3d51022718db",
   "metadata": {},
   "source": [
    ">\n",
    "> *Response:*\n",
    ">\n",
    "> Perfect, let's make a Valentine's Day itinerary suitable for a person who embodies the traits of a Slytherin: ambitious, resourceful, and a bit of a luxury lover.\n",
    ">\n",
    "> Here's the plan for a 6 hour Valentine's Day date:\n",
    ">\n",
    "> Start Time: 3:00 PM\n",
    ">\n",
    "> End Time: 9:00 PM\n",
    ">\n",
    ">\n",
    "> **3:00 PM - 5:00 PM: Visit an Art Gallery** Start the afternoon by visiting a contemporary art gallery. Slytherins appreciate fine and luxurious things, and the thought-provoking nature of art can spark interesting conversations. It's a quiet, intimate setting which allows for getting to know each other better.\n",
    ">\n",
    "> **5:30 PM - 7:00 PM: Fine Dining Dinner** After the gallery, head to a high-end restaurant for a fine dining experience. Slytherins love the finer things in life, and nothing speaks more to that than a luxurious meal. A place with a sophisticated ambiance that serves dishes with exquisite presentation would be ideal. Make sure to reserve a table in advance.\n",
    ">\n",
    "> **7:30 PM - 9:00 PM: Luxury Yacht River Cruise** End the evening with a private, luxury yacht river cruise. It's a romantic setting that allows for intimate conversation, and the views of the city's skyline from the river are truly spectacular. Also, the exclusivity of the experience aligns well with the Slytherin's preference for things that are a cut above the ordinary.\n",
    ">\n",
    ">\n",
    ">Remember, the key to impressing a Slytherin is to show thoughtfulness and ambition in your planning, by choosing unique and high-end experiences.\n",
    ">\n",
    ">"
   ]
  },
  {
   "cell_type": "markdown",
   "id": "1798e7cc-6265-4881-8b06-59b8f997c4b7",
   "metadata": {},
   "source": [
    "## What did my Ravenclaw/Gryffindor/Hufflepuff/Slytherin friends think of their Valentine's Day itinerary"
   ]
  },
  {
   "cell_type": "markdown",
   "id": "7a8e4302-0989-463e-91fb-857f59ab61df",
   "metadata": {},
   "source": [
    "| **Hogwarts House Representative** | **Is this your perfect Valentine's Day?** |\n",
    "|-----------------------------------|-------------------------------------------|\n",
    "|                         Ravenclaw |                    Yes                    |\n",
    "|                        Gryffindor |                    Yes                    |\n",
    "|                        Hufflepuff |                    Yes                    |\n",
    "|                         Slytherin |                    Yes                    |"
   ]
  }
 ],
 "metadata": {
  "citation-manager": {
   "items": {}
  },
  "kernelspec": {
   "display_name": "Python 3.11 (COMM4190)",
   "language": "python",
   "name": "comm4190"
  },
  "language_info": {
   "codemirror_mode": {
    "name": "ipython",
    "version": 3
   },
   "file_extension": ".py",
   "mimetype": "text/x-python",
   "name": "python",
   "nbconvert_exporter": "python",
   "pygments_lexer": "ipython3",
   "version": "3.11.7"
  }
 },
 "nbformat": 4,
 "nbformat_minor": 5
}
