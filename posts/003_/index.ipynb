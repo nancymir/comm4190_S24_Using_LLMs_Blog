{
 "cells": [
  {
   "cell_type": "raw",
   "id": "ee66d3a8-936a-45be-a4ab-348ae5ce50ed",
   "metadata": {},
   "source": [
    "---\n",
    "title: \"Personalized Valentine's Day Itineraries\"\n",
    "description: \"How well can AI cook up personalized Valentine's Day Activities According to your Date's Hogwarts House?\"\n",
    "author: \"Nancy\"\n",
    "date: \"2/13/2024\"\n",
    "categories:\n",
    "  - LLMs\n",
    "  - Prompting\n",
    "---"
   ]
  },
  {
   "cell_type": "markdown",
   "id": "2d55260d-c93f-4a9b-b890-c227dcdf2a87",
   "metadata": {},
   "source": [
    "## Can `gpt-4` Write Up the Perfect Valentine's Day According to Hogwarts House Personality?\n",
    "\n",
    "With Valentine's Day around the corner, it's the perfect time to prompt some LLM's to generate a last minute Valentine's Day itinerary for your potential date. Of course, the only thing you know about them is their Hogwarts House, and you fully rely on this one fact to impress your crush.\n",
    "\n",
    "`gpt-4` was assigned the **role of \"An assistant who knows a lot about Hogwarts Houses\"** and was given the following House descriptions from the Wizarding World website:"
   ]
  },
  {
   "cell_type": "markdown",
   "id": "019c77d6-a7fe-4681-a52e-3daef41501ff",
   "metadata": {},
   "source": [
    "[![Hogwarts Houses Descriptions](hogwarts_houses.jpeg)](https://www.wizardingworld.com/features/hogwarts-house-meanings \"Hogwarts Houses Descriptions\")"
   ]
  },
  {
   "cell_type": "markdown",
   "id": "8652730b-b0c1-4453-9add-cbf08e606ac2",
   "metadata": {},
   "source": [
    "## A *Ravenclaw's* Perfect Valentine's Day\n",
    "### What did `gpt-4` come up with when asked to create an itinerary for a Ravenclaw?"
   ]
  },
  {
   "cell_type": "markdown",
   "id": "cb40de7d-0a8a-4aec-b663-139214c6fb5a",
   "metadata": {},
   "source": [
    ">\n",
    "> Prompt:\n",
    ">\n",
    "> Using your extensive knowledge on the Hogwarts Houses and their personalities, help the user construct the perfect Valentine's Day itineraries for their potential date who is a **Ravenclaw**. The itinerary should **include one of three meals** (brunch, lunch, or dinner) accompanied by **at least one activity** preceding or following the meal or both. The whole itinerary **should not exceed more than 6 hours of the day**.\n",
    ">"
   ]
  },
  {
   "cell_type": "markdown",
   "id": "d4115153-f32d-46dc-b55d-827557a4cf5d",
   "metadata": {},
   "source": [
    ">\n",
    "> Response:\n",
    ">\n",
    ">Sure, I'd be happy to help with this! Given that a Ravenclaw values intellect and wit, your itinerary should reflect a mix of thoughtful activities and engaging conversation. Here's a proposed itinerary for a Ravenclaw Valentine's Day:\n",
    ">\n",
    "> 1. **Visit to a Museum (10:00 AM - 12:30 PM)**: Start the day with a trip to a local museum. Whether it's art, history, or science, a Ravenclaw is sure to appreciate the chance to learn something new. Make sure to engage in meaningful discussions about the exhibits - this will show your Ravenclaw date that you value their intellect.\n",
    ">\n",
    "> 2. **Lunch at a Unique, Themed Restaurant (1:00 PM - 2:30 PM)**: Ravenclaws are known for their creativity and individuality, so choosing a restaurant with a unique theme or unusual menu will pique their interest. This could be a restaurant with a literary theme, or one that serves dishes from a cuisine they've never tried before.\n",
    ">\n",
    "> 3. **Bookstore or Library Visit (3:00 PM - 4:30 PM)**: After lunch, head to a local bookstore or library. Ravenclaws love reading and learning, so this will be a perfect leisurely activity. You could each choose a book for the other to read, or find a quiet corner and read together.\n",
    ">\n",
    "> 4. **Stargazing (5:00 PM - 6:00 PM)**: End the day with a peaceful session of stargazing. Ravenclaws are known for their wisdom and inquisitiveness, so they'll love the chance to observe the cosmos and discuss the mysteries of the universe.\n",
    ">\n",
    "> Remember, the key to impressing a Ravenclaw is showing your own curiosity and enthusiasm for learning. Make sure to ask lots of questions and show genuine interest in their thoughts and ideas. This will surely make for a Valentine's Day that a Ravenclaw will remember.\n",
    ">\n",
    ">"
   ]
  }
 ],
 "metadata": {
  "citation-manager": {
   "items": {}
  },
  "kernelspec": {
   "display_name": "Python 3.11 (COMM4190)",
   "language": "python",
   "name": "comm4190"
  },
  "language_info": {
   "codemirror_mode": {
    "name": "ipython",
    "version": 3
   },
   "file_extension": ".py",
   "mimetype": "text/x-python",
   "name": "python",
   "nbconvert_exporter": "python",
   "pygments_lexer": "ipython3",
   "version": "3.11.7"
  }
 },
 "nbformat": 4,
 "nbformat_minor": 5
}
