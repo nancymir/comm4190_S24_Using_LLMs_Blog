{
 "cells": [
  {
   "cell_type": "raw",
   "id": "a8dd8443-90f5-4534-afef-2c322f65c6a2",
   "metadata": {},
   "source": [
    "---\n",
    "title: \"Personalized Valentine's Day Itineraries\"\n",
    "description: \"Code notebook for Personalized Valentine's Day Itineraries\"\n",
    "author: \"Nancy\"\n",
    "date: \"2/13/2024\"\n",
    "draft: true\n",
    "categories:\n",
    "  - LLMs\n",
    "  - Prompting\n",
    "---"
   ]
  },
  {
   "cell_type": "markdown",
   "id": "51e44476-ede5-44a0-95e7-39458dc79dcf",
   "metadata": {},
   "source": [
    "# Valentine's Day Itinerary\n"
   ]
  },
  {
   "cell_type": "markdown",
   "id": "94e463d0-f67f-49cc-87f9-832447c10a55",
   "metadata": {},
   "source": [
    "### Setup"
   ]
  },
  {
   "cell_type": "code",
   "execution_count": 5,
   "id": "04a0c664-f0a0-49c4-ba43-6cb46a4100f8",
   "metadata": {},
   "outputs": [],
   "source": [
    "from openai import OpenAI\n",
    "import os\n",
    "import pandas as pd"
   ]
  },
  {
   "cell_type": "markdown",
   "id": "65c39af6-620f-49b0-9b4a-76da574aa2e3",
   "metadata": {},
   "source": [
    "### Setup apikey"
   ]
  },
  {
   "cell_type": "code",
   "execution_count": 6,
   "id": "1825ddb4-c0f6-4ca1-8b5c-68d8b0e329ef",
   "metadata": {},
   "outputs": [],
   "source": [
    "apikey = open('.apikey').read().strip()\n",
    "os.environ['OPENAI_API_KEY'] = apikey"
   ]
  },
  {
   "cell_type": "markdown",
   "id": "c40ea5c9-fe21-4806-af7d-0f32be3087a3",
   "metadata": {},
   "source": [
    "### Calling ChatGPT using the API"
   ]
  },
  {
   "cell_type": "code",
   "execution_count": 10,
   "id": "453892f3-dee1-497d-a1d1-1873fbed9785",
   "metadata": {},
   "outputs": [],
   "source": [
    "model = \"gpt-4\"\n",
    "system_role = \"You are an assistant who knows a lot about Hogwarts and its Houses\"\n",
    "'''\n",
    "        Gryffindor house is where you would find the pluckiest and most daring students (there’s a reason the house symbol is the brave lion). \n",
    "        The house colours are scarlet and gold, the common room lies up in Gryffindor Tower and the Head of House is Professor Minerva McGonagall. \n",
    "        If the Sorting Hat placed you here, you would have demonstrated qualities like courage, bravery and determination. \n",
    "        Some of the wizarding world’s best and brightest belonged to this house – Harry Potter and Albus Dumbledore are just a couple that spring to mind!\n",
    "        If you are lucky enough to end up in Gryffindor, we imagine you’re the type of person who likes to stand up for the little guy, challenges authority, \n",
    "        has a tendency to act first and think later, is known as a class clown and takes board games very seriously.\n",
    "\n",
    "        Slytherin house has an unfortunate reputation. While it is true that a lot of dark witches and wizards were sorted into Slytherin, \n",
    "        not all who belong to this house are bad. In fact, there are a lot of excellent qualities the Sorting Hat looks for in potential Slytherins and \n",
    "        Merlin himself even belonged to this misunderstood house! The house colours for Slytherin are silver and emerald green and the emblem is a serpent. \n",
    "        The Head of House is Professor Severus Snape, and the common room can be found down in the dungeons under the lake (which only adds to the Slytherin air of mystery).\n",
    "        If the Sorting Hat placed you in this noble house, then you are most likely ambitious, shrewd and possibly destined for greatness. \n",
    "        We can imagine you’re the kind of person who is always one step ahead, has a dark sense of humour, thinks reputation is important, takes pride in their appearance and doesn’t let anyone see their soft side.\n",
    "\n",
    "        Ravenclaw. If you are looking for the brainiest students – you would find them in Ravenclaw (with a couple of notable exceptions like Hermione Granger). \n",
    "        The Ravenclaw colours are blue and bronze, the emblem is an eagle, the Head of House is Professor Filius Flitwick and the common room sits at the top of Ravenclaw Tower behind an enchanted knocker.\n",
    "        The Sorting Hat would only put you in this house if you demonstrated excellent wisdom, wit and a skill for learning. Ravenclaws are often known for being quite eccentric and most of the great \n",
    "        wizarding inventors and innovators have come from this house. We can imagine that you would get to sit up in Ravenclaw Tower, while surveying the excellent views, if you’re the type of person who analyses everything, \n",
    "        is an overachiever, can be described as away with the fairies, is not afraid to be an individual and has a head stuffed full of interesting facts. \n",
    "        \n",
    "\n",
    "        Hufflepuff is where you will find the most trustworthy and hardworking students. In fact, out of all the houses Hufflepuff has produced the least number of dark witches and wizards. \n",
    "        The badger is the symbol of this house, the colours are yellow and black, the Head of House is Professor Pomona Sprout and the common room can be found near the kitchens in Hogwarts.\n",
    "        There is an idea that Hufflepuffs are the least clever of all Hogwarts students – but that is not true. Hufflepuffs are just the most humble of all the houses and don’t feel the need \n",
    "        to shout about their achievements in the same way as the others. If you were lucky enough to be sorted into this house, we can imagine you’re the type of person who has a strong moral compass, \n",
    "        always works hard, is the most loyal friend, knows it is the taking part that counts and always has the best snacks.\n",
    "'''\n",
    "\n",
    "initial_prompt = '''\n",
    "        Using your extensive knowledge on the Hogwarts Houses and their personalities,\n",
    "        help the user construct the perfect Valentine's Day itineraries for their potential date who is a Ravenclaw.\n",
    "        The itinerary should include one of three meals (brunch, lunch, or dinner),\n",
    "        accompanied by at least one activity preceding or following the meal or both. \n",
    "        The whole itinerary should not exceed more than 6 hours of the day.\n",
    "        '''\n",
    "\n",
    "messages = [\n",
    "    {\"role\": \"system\", \"content\": system_role} ,\n",
    "    {\"role\": \"user\", \"content\": initial_prompt}]"
   ]
  },
  {
   "cell_type": "markdown",
   "id": "d32f27af-6b54-44ef-9f84-509c33bd9b27",
   "metadata": {},
   "source": [
    "### The API call"
   ]
  },
  {
   "cell_type": "code",
   "execution_count": 13,
   "id": "627b5e2a-a098-46e6-86b5-1ced9e792403",
   "metadata": {},
   "outputs": [],
   "source": [
    "client = OpenAI()\n",
    "\n",
    "completion = client.chat.completions.create(\n",
    "  model=model,        # the model to use \n",
    "  messages=messages,  # a list of dictionaries with the prompt\n",
    "  n=1,                # how many responses to generate\n",
    "  temperature=0.7     # temperature parameter\n",
    ")\n",
    "\n",
    "response = completion.choices[0].message.content"
   ]
  },
  {
   "cell_type": "code",
   "execution_count": 12,
   "id": "d666a310-db7f-473a-adac-269cc1f624a9",
   "metadata": {},
   "outputs": [
    {
     "name": "stdout",
     "output_type": "stream",
     "text": [
      "Itinerary for a Valentines Date with a Ravenclaw:\n",
      "\n",
      "10:00 am - 11:00 am: Visit to the Library\n",
      "Ravenclaws love learning and reading, so start your day by visiting a library. You can pick up a book related to their favorite subjects and discuss it together. This will not only show your interest in their hobbies but also give you both a chance to bond over shared interests.\n",
      "\n",
      "11:30 am - 1:00 pm: Brunch at a Puzzle Cafe\n",
      "Next, head to a unique puzzle cafe for brunch. Ravenclaws are known for their wit and wisdom, so they would appreciate a place where they can eat and challenge their brains at the same time. Make sure to order brain-boosting foods like fish, nuts, and blueberries, as these are known to be good for cognitive function.\n",
      "\n",
      "1:30 pm - 3:00 pm: Art Museum visit\n",
      "Take your date to an art museum next. Ravenclaws are creative and appreciate beauty, so they will enjoy walking around and discussing the various pieces of art with you. This is a great way to get to know their taste and see the world from their perspective.\n",
      "\n",
      "3:30 pm - 4:30 pm: Scenic Walk\n",
      "After the museum, go for a scenic walk. Choose a location that has beautiful views and plenty of things to see. This will give your date the chance to relax after the intellectual stimulation of the museum and cafe.\n",
      "\n",
      "5:00 pm - 6:00 pm: Astronomy Tower Visit\n",
      "Finish your date with a visit to an astronomy tower. Ravenclaws love learning about the universe, and there's no better way to do that than by looking at the stars. You can talk about constellations, planets, and the mysteries of the universe. This will not only be intellectually stimulating for your date but also incredibly romantic.\n",
      "\n",
      "Remember, the key to impressing a Ravenclaw is by engaging their mind. Be open to learning new things and show genuine interest in their passions. Good luck!\n",
      "\n",
      "Sure, I'd be happy to help with this! Given that a Ravenclaw values intellect and wit, your itinerary should reflect a mix of thoughtful activities and engaging conversation. Here's a proposed itinerary for a Ravenclaw Valentine's Day:\n",
      "\n",
      "1. **Visit to a Museum (10:00 AM - 12:30 PM)**: Start the day with a trip to a local museum. Whether it's art, history, or science, a Ravenclaw is sure to appreciate the chance to learn something new. Make sure to engage in meaningful discussions about the exhibits - this will show your Ravenclaw date that you value their intellect.\n",
      "\n",
      "2. **Lunch at a Unique, Themed Restaurant (1:00 PM - 2:30 PM)**: Ravenclaws are known for their creativity and individuality, so choosing a restaurant with a unique theme or unusual menu will pique their interest. This could be a restaurant with a literary theme, or one that serves dishes from a cuisine they've never tried before. \n",
      "\n",
      "3. **Bookstore or Library Visit (3:00 PM - 4:30 PM)**: After lunch, head to a local bookstore or library. Ravenclaws love reading and learning, so this will be a perfect leisurely activity. You could each choose a book for the other to read, or find a quiet corner and read together.\n",
      "\n",
      "4. **Stargazing (5:00 PM - 6:00 PM)**: End the day with a peaceful session of stargazing. Ravenclaws are known for their wisdom and inquisitiveness, so they'll love the chance to observe the cosmos and discuss the mysteries of the universe.\n",
      "\n",
      "Remember, the key to impressing a Ravenclaw is showing your own curiosity and enthusiasm for learning. Make sure to ask lots of questions and show genuine interest in their thoughts and ideas. This will surely make for a Valentine's Day that a Ravenclaw will remember.\n",
      "\n",
      "Sure, I'd be happy to assist you in creating a Valentine's Day itinerary for your date who is a Ravenclaw. As you may know, members of this House are known for their wisdom, wit, and love for learning. They're also creative and enjoy intellectual conversation. Here's a proposed itinerary:\n",
      "\n",
      "**1:00 PM - Visit to a Museum (2 hours)**\n",
      "\n",
      "Start your day in the early afternoon by visiting an art, history, or science museum. Ravenclaws love to learn, so this will give them a chance to enjoy new knowledge and share their insights with you. It's also a great opportunity for stimulating conversation. \n",
      "\n",
      "**3:00 PM - Late Lunch at an Ethnic Restaurant (1.5 hours)**\n",
      "\n",
      "After the museum, proceed to a unique ethnic restaurant that offers international cuisine neither of you have tried before. This could be anything from Ethiopian to Peruvian. Not only will this be a culinary adventure, but it's also a chance to learn about a new culture. \n",
      "\n",
      "**4:30 PM - Bookstore Visit (1 hour)**\n",
      "\n",
      "After lunch, find a nearby bookstore, preferably one that sells used books or has a unique charm. Ravenclaws love reading, and this will give them a chance to show you some of their favourite genres or authors. You can also surprise your date by buying them a book that they show interest in.\n",
      "\n",
      "**5:30 PM - Walk in a Park or Botanical Garden (1 hour)**\n",
      "\n",
      "After the bookstore visit, take a relaxing walk in a nearby park or botanical garden. This will give you both a chance to digest your lunch, enjoy nature, and have deep, thoughtful conversations. \n",
      "\n",
      "**6:30 PM - Coffee or Tea at a Quiet Cafe (30 minutes)**\n",
      "\n",
      "End your date at a quiet café where you can enjoy a warm drink and perhaps share a dessert. This will be a good opportunity to wind down and discuss your day. \n",
      "\n",
      "This itinerary not only caters to a Ravenclaw's love for learning and exploration but also includes ample opportunities for intellectual conversation and shared experiences. I hope your date enjoys it!\n",
      "\n"
     ]
    }
   ],
   "source": [
    "for choice in completion.choices:\n",
    "    print(choice.message.content)\n",
    "    print()"
   ]
  },
  {
   "cell_type": "code",
   "execution_count": null,
   "id": "2674473b-490b-4734-adc5-61110457fabf",
   "metadata": {},
   "outputs": [],
   "source": []
  }
 ],
 "metadata": {
  "citation-manager": {
   "items": {}
  },
  "kernelspec": {
   "display_name": "Python 3.11 (COMM4190)",
   "language": "python",
   "name": "comm4190"
  },
  "language_info": {
   "codemirror_mode": {
    "name": "ipython",
    "version": 3
   },
   "file_extension": ".py",
   "mimetype": "text/x-python",
   "name": "python",
   "nbconvert_exporter": "python",
   "pygments_lexer": "ipython3",
   "version": "3.11.7"
  }
 },
 "nbformat": 4,
 "nbformat_minor": 5
}
